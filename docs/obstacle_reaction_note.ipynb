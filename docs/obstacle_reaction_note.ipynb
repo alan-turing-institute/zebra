{
 "cells": [
  {
   "cell_type": "markdown",
   "metadata": {},
   "source": [
    "# Notebook for deriving the physics updates for obstacle events"
   ]
  },
  {
   "cell_type": "code",
   "execution_count": 1,
   "metadata": {},
   "outputs": [],
   "source": [
    "# Imports\n",
    "import matplotlib.pyplot as plt\n",
    "import numpy as np"
   ]
  },
  {
   "cell_type": "markdown",
   "metadata": {},
   "source": [
    "## Diagram"
   ]
  },
  {
   "cell_type": "code",
   "execution_count": 15,
   "metadata": {},
   "outputs": [
    {
     "data": {
      "text/plain": [
       "[(6.0, 24.0), (9.5, 10.5)]"
      ]
     },
     "execution_count": 15,
     "metadata": {},
     "output_type": "execute_result"
    },
    {
     "data": {
      "image/png": "[encoded data removed]",
      "text/plain": [
       "<Figure size 432x288 with 1 Axes>"
      ]
     },
     "metadata": {
      "needs_background": "light"
     },
     "output_type": "display_data"
    }
   ],
   "source": [
    "fig, axs = plt.subplots(1, 1)\n",
    "\n",
    "x1 = 10\n",
    "x2 = 20\n",
    "u1 = 3\n",
    "u2 = 4\n",
    "a1 = 3\n",
    "a2 = 0\n",
    "y = 10\n",
    "buff = 4\n",
    "ax = axs\n",
    "ax.scatter(x1, y, s=100)\n",
    "ax.scatter(x2, y, s=100)\n",
    "ax.annotate(f\"(x, u, a) = {x1, u1, a1}\", (x1, y), (x1, y+0.1), va=\"bottom\", ha=\"center\")\n",
    "ax.annotate(f\"(x, u, a) = {x2, u2, a2}\", (x2, y), (x2, y+0.1), va=\"bottom\", ha=\"center\")\n",
    "ax.set(xlim=(x1-buff, x2+buff), ylim=(y-0.5, y+0.5))"
   ]
  },
  {
   "cell_type": "markdown",
   "metadata": {},
   "source": [
    "## Equations\n",
    "\n",
    "Object $i$ is described by a tuple:\n",
    "\\begin{align}\n",
    "\\boldsymbol{V}_i &= (\\text{position}, \\text{speed}, \\text{acceleration})\n",
    "\\end{align}\n",
    "\n",
    "We write this as a function of time as:\n",
    "$$\n",
    "\\boldsymbol{V}_i(t) = (x_i(t), u_i(t), a_i(t))\n",
    "$$\n",
    "\n",
    "Given constant initial conditions, and constant accelerations, we can write the components for any object as:\n",
    "\\begin{align}\n",
    "x_i(t) &= x_i(0) + u_i(0)t + \\frac{1}{2}a_i(0)t^2\\\\\n",
    "u_i(t) &= u_i(0) + a_i(0)t\\\\\n",
    "a_i(t) &= a_i(0)\n",
    "\\end{align}\n",
    "\n",
    "For two objects, such as a vehicle behind an obstacle, we can write down their \\emph{relative} position, speed and acceleration also as a function of time $t$.\n",
    "\n",
    "\\begin{align}\n",
    "\\Delta x(t) &= \\Delta x(0) + \\Delta u(0)t + \\frac{1}{2}\\Delta a(0)t^2\\\\\n",
    "\\Delta u(t) &= \\Delta u(0) + \\Delta a(0)t\\\\\n",
    "\\Delta a(t) &= \\Delta a(0)\n",
    "\n",
    "\\end{align}\n",
    "\n",
    "For convenience, when explicitly considering two objects, we drop the $\\Delta$s, so that we have:\n",
    "\\begin{align}\n",
    "x(t) &= x(0) + u(0)t + \\frac{1}{2}a(0)t^2\\\\\n",
    "u(t) &= u(0) + a(0)t\\\\\n",
    "a(t) &= a(0)\n",
    "\\end{align}\n"
   ]
  },
  {
   "cell_type": "markdown",
   "metadata": {},
   "source": [
    "## Deriving the time of a reaction to obstacle\n",
    "\n",
    "With the relative equations set-up, we now derive the time at which a reaction is required from vehicle $i$ to obstacle $j$ (could be vehicle, pedestrian, etc).\n",
    "\n",
    "We split the total time $t$ into two parts:\n",
    "1. $0 \\le t < t'$: vehicle $V$ continues without changing it's acceleration\n",
    "2. $t' \\le t < t_B$: vehicle $V$ switches to relative deceleration of $a(t) = a_B$ with respect to obstacle\n",
    "\n",
    "We wish to calculate the time $t'$ at which the $V$ reacts and begins to brake.\n",
    "\n",
    "Two conditions are necessary to determine $t'$, namely:\n",
    "1. The relative position of the vehicle is $B$ behind the obstacle\n",
    "2. The relative speed is 0.\n",
    "\n",
    "We can express this using our formulation as:\n",
    "\\begin{equation}\n",
    "\\begin{align}\n",
    "x(t_B) &= -B\\\\\n",
    "u(t_B) &= 0\\\\\n",
    "\\end{align}\n",
    "\\end{equation}\n",
    "\n",
    "And with the time period split in two with seperate accelerations:\n",
    "\\begin{equation}\n",
    "x(t_B)  = \\underbrace{\\left(x(0) + u(0)t' + \\frac{1}{2}a(0)t'^2\\right)}_{\\text{Rel position after time } t'} + \\underbrace{\\left(u(0) + a(0)t'\\right) }_{\\text{Rel speed after time }t'}(t_B - t') + \\frac{1}{2}a_B(t_B - t')^2\n",
    "\\end{equation}\n",
    "with $t_B - t'$ the total time spent decelerating. We can also write down the relative speed at $t_B$:\n",
    "\\begin{equation}\n",
    "u(t_B) = (u(0) + a(0)t') + a_B (t_B - t')\n",
    "\\end{equation}\n",
    "\n",
    "We can now apply our conditions, setting $u(t_B) = 0$, we find:\n",
    "\\begin{equation}\n",
    "(t_B - t') = -\\frac{u(0) + a(0)t'}{a_B}\n",
    "\\end{equation}\n",
    "allowing us to substitute into our equation for $x(t_B)$ and eliminate $t_B$, finding:\n",
    "\\begin{align}\n",
    "x(t_B) &= (x(0) + u(0)t'+\\frac{1}{2}a(0)t'^2) - \\frac{(u(0) + a(0)t')^2}{2a_B}\\\\\n",
    "&= \\frac{a(0)}{2}\\left(1 - \\frac{a(0)}{a_B}\\right) t'^2 + u(0)\\left(1-\\frac{a(0)}{a_B}\\right) t' + \\left(x(0) - \\frac{u(0)^2}{2a_B}\\right) \\\\\n",
    "&= -B\n",
    "\\end{align}\n",
    "\n",
    "For convenience, we drop the $(0)$, such that $x:=x(0)$, $u:=u(0)$ and $a:=a(0)$, define:\n",
    "$$\n",
    "\\gamma = \\left(1 - \\frac{a}{a_B}\\right)\n",
    "$$\n",
    "and write this quadratic in $t'$ as:\n",
    "\\begin{align}\n",
    "\\frac{a}{2}\\gamma t'^2 + u\\gamma t' + \\left(x - \\frac{u^2}{2a_B} + B \\right) = 0\\\\\n",
    "\\end{align}\n",
    "\n",
    "We can now solve to $t'$ under different scenarios.\n",
    "\n",
    "#### Case 1: obstacle and vehicle not accelerating, $a=0,\\, a_B < 0$\n",
    "In this case, we note that the equation for $x(t_B)$ is no longer quadratic in $t'$ with $\\gamma=1$ and has the solution:\n",
    "\\begin{equation}\n",
    "t' = \\frac{1}{u}\\left(\\left(-B + \\frac{u^2}{2a_B}\\right) - x\\right)\n",
    "\\end{equation}\n",
    "which can be understood as the time for the distance travelled up to the braking point.\n",
    "\n",
    "#### Case 2: obstacle not accelerating, vehicle accelerating, $a\\ne0,\\, a_B < 0$\n",
    "When $a\\ne0$, we need to solve the quadratic in $t'$ finding solutions:\n",
    "\\begin{equation}\n",
    "t' = \\frac{-u\\gamma + \\sqrt{(u\\gamma)^2 - 2a\\gamma\\left(x - \\frac{u^2}{2a_B} + B\\right)}}{a\\gamma}\n",
    "\\end{equation}\n",
    "with only the positive root relevent given\n",
    "$$\n",
    "x - \\frac{u^2}{2a_B} + B < 0\n",
    "$$\n",
    "\n",
    "#### Case 3: obstacle decelerating, $a_B = 0$\n",
    "We can no longer apply the same formulation splitting the reaction into before and after $t'$ as after $t'$ the vehicle $V$ has a relative deceleration of $a_B=0$.\n",
    "We therefore consider the time that the obstacle stops which is:\n",
    "$$\n",
    "t'' = \\frac{-u_{obs}}{a_{obs}}\n",
    "$$\n",
    "We can now set $t' = t''$ and calculate $x(t_B)$ under this circumstance:\n",
    "\\begin{equation}\n",
    "x(t_B) = (x + ut''+\\frac{1}{2}at''^2) - \\frac{(u + at'')^2}{2a_B}\n",
    "\\end{equation}\n",
    "As long as $x(t_B) < -B$, then no action is required at $t=0$, and instead we add `ObstacleStop(t'')` to the event queue, so that vehicle can decelerate at $t=t''$ if still necesary. This works because we measured that it will be possible to brake and be behind the danger zone at this future time.\n",
    "\n",
    "If instead, $x(t_B) \\ge -B$, we pass an immediate `HazardEvent::Brake(Vehicle)` for the vehicle so it switches to decelerating.\n",
    "\n",
    "#### Case 4: vehicle decelerating and obstacle decelerating, $a=0, \\, a_B = 0$\n",
    "The last condition of `case 3` leads to a case where both obstacle and vehicle are decelerating. Under this condition, we need to evaluate:\n",
    "\\begin{align}\n",
    "t_{veh} &= \\frac{-u_{veh}}{a_{veh}}\\\\\n",
    "t_{obs} &= \\frac{-u_{obs}}{a_{obs}}\\\\\n",
    "\\end{align}\n",
    "which are the stopping times of the respective objects.\n",
    "\n",
    "If $t_{veh} < t_{obs}$ or $t_{veh} > t_{obs}$ with $x<-B$, there is no collision.\n",
    "\n",
    "If $$t_{veh} > t_{obs}$$ with $x(t_B)\\ge-B$, there is a collision.\n",
    "\n",
    "An emergency stop event is required at time $t=0$ in this case.\n"
   ]
  },
  {
   "cell_type": "markdown",
   "metadata": {},
   "source": []
  }
 ],
 "metadata": {
  "kernelspec": {
   "display_name": "Python 3.9.12 ('.venv': poetry)",
   "language": "python",
   "name": "python3"
  },
  "language_info": {
   "codemirror_mode": {
    "name": "ipython",
    "version": 3
   },
   "file_extension": ".py",
   "mimetype": "text/x-python",
   "name": "python",
   "nbconvert_exporter": "python",
   "pygments_lexer": "ipython3",
   "version": "3.9.12"
  },
  "orig_nbformat": 4,
  "vscode": {
   "interpreter": {
    "hash": "2c85dc0f879cfd147899a35df8a128c6460689521abe3baaf610ccde87458220"
   }
  }
 },
 "nbformat": 4,
 "nbformat_minor": 2
}
