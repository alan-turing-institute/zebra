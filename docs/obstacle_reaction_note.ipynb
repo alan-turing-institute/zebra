{
 "cells": [
  {
   "cell_type": "markdown",
   "metadata": {},
   "source": [
    "# Notebook for deriving the physics updates for obstacle events"
   ]
  },
  {
   "cell_type": "markdown",
   "metadata": {},
   "source": [
    "## Diagram"
   ]
  },
  {
   "cell_type": "code",
   "execution_count": 1,
   "metadata": {},
   "outputs": [
    {
     "data": {
      "image/png": "[encoded data removed]",
      "text/plain": [
       "<Figure size 720x288 with 1 Axes>"
      ]
     },
     "metadata": {
      "needs_background": "light"
     },
     "output_type": "display_data"
    }
   ],
   "source": [
    "import matplotlib.pyplot as plt\n",
    "def arrow_col(a):\n",
    "    if a < 0:\n",
    "        return \"red\"\n",
    "    elif a > 0:\n",
    "        return \"green\"\n",
    "    else:\n",
    "        return \"black\"\n",
    "\n",
    "def draw_arrow(x, u, a, y, ax):\n",
    "    ax.annotate(\"\", xytext=(x, y), xy=(x+2*a, y), arrowprops=dict(arrowstyle=\"->\", color=arrow_col(a)))\n",
    "\n",
    "fig, axs = plt.subplots(1, 1, figsize=(10, 4))\n",
    "\n",
    "(x1, u1, a1) = (10, 3, 3)\n",
    "(x1b, u1b, a1b) = (90 + 14**2/(-2*4), 14, -4)\n",
    "(x1s, u1s, a1s) = (90, 0, 0)\n",
    "(x2, u2, a2) = (100, 0, 0)\n",
    "y = 10\n",
    "buff = 4\n",
    "ax = axs\n",
    "ax.scatter(x1, y, s=100)\n",
    "ax.scatter(x1b, y, s=100, color=\"dodgerblue\")\n",
    "ax.scatter(x1s, y, s=100, color=\"lightblue\")\n",
    "ax.scatter(x2, y, s=100)\n",
    "ax.annotate(f\"(x, u, a) = {x1, u1, a1}\", (x1, y), (x1, y+0.1), va=\"bottom\", ha=\"center\")\n",
    "ax.annotate(f\"(x, u, a) = {x1b, u1b, a1b}\", (x1b, y), (x1b, y+0.1), va=\"bottom\", ha=\"center\")\n",
    "ax.annotate(f\"(x, u, a) = {x1s, u1s, a1s}\", (x1s, y), (x1s, y-0.1), va=\"bottom\", ha=\"center\")\n",
    "ax.annotate(f\"(x, u, a) = {x2, u2, a2}\", (x2, y), (x2, y+0.1), va=\"bottom\", ha=\"center\")\n",
    "ax.set(xlim=(x1-buff, x2+buff), ylim=(y-0.5, y+0.5))\n",
    "draw_arrow(x1, u1, a1, y, ax)\n",
    "draw_arrow(x1b, u1b, a1b, y, ax)\n",
    "draw_arrow(x1s, u1s, a1s, y, ax)\n",
    "draw_arrow(x2, u2, a2, y, ax)\n",
    "ax.vlines(x1b, y-0.5, y+0.5, ls=\":\", color=\"grey\", zorder=-1)\n",
    "ax.annotate(\"What time $t'$\\ndoes vehicle need to\\nbrake to stop at 90m\", (x1b, y+0.5), (x1b, y+0.5), fontsize=\"medium\", va=\"top\", ha=\"center\")\n",
    "ax.axis(\"off\")\n",
    "plt.show()"
   ]
  },
  {
   "cell_type": "markdown",
   "metadata": {},
   "source": [
    "## Equations\n",
    "\n",
    "Object $\\boldsymbol{V}_i$ is described by a tuple, $\\boldsymbol{V}_i = (\\text{position}, \\text{speed}, \\text{acceleration})$. We write this as a function of time as:\n",
    "$$\n",
    "\\boldsymbol{V}_i(t) = (x_i(t), u_i(t), a_i(t))\n",
    "$$\n",
    "\n",
    "Given constant initial conditions, and constant accelerations, we can write the components for any object as:\n",
    "\\begin{align*}\n",
    "x_i(t) &= x_i(0) + u_i(0)t + \\frac{1}{2}a_i(0)t^2\\\\\n",
    "u_i(t) &= u_i(0) + a_i(0)t\\\\\n",
    "a_i(t) &= a_i(0)\n",
    "\\end{align*}\n",
    "\n",
    "For two objects, such as a vehicle behind an obstacle, we can write down their \\textit{relative} position, speed and acceleration also as a function of time $t$.\n",
    "\n",
    "\\begin{align*}\n",
    "\\Delta x(t) &= \\Delta x(0) + \\Delta u(0)t + \\frac{1}{2}\\Delta a(0)t^2\\\\\n",
    "\\Delta u(t) &= \\Delta u(0) + \\Delta a(0)t\\\\\n",
    "\\Delta a(t) &= \\Delta a(0)\n",
    "\\end{align*}\n",
    "\n",
    "For convenience, when explicitly considering two objects, we drop the $\\Delta$ notation, so that we have:\n",
    "\\begin{align*}\n",
    "x(t) &= x(0) + u(0)t + \\frac{1}{2}a(0)t^2\\\\\n",
    "u(t) &= u(0) + a(0)t\\\\\n",
    "a(t) &= a(0)\n",
    "\\end{align*}\n"
   ]
  },
  {
   "cell_type": "markdown",
   "metadata": {},
   "source": [
    "## Deriving the time of a reaction to obstacle\n",
    "\n",
    "With the relative equations set-up, we now derive the time at which a reaction is required from vehicle $i$ to obstacle $j$ (could be vehicle, pedestrian, etc).\n",
    "\n",
    "We split the total time $t$ into two parts:\n",
    "1. $0 \\le t < t'$: vehicle $V$ continues without changing it's acceleration\n",
    "2. $t' \\le t < t_B$: vehicle $V$ switches to relative deceleration of $a(t) = a_B$ with respect to obstacle\n",
    "\n",
    "We wish to calculate the `ReactionToObstacle` time $t'$ at which the $V$ reacts and begins to brake.\n",
    "\n",
    "Two conditions required at the final stop time $t_B$ are necessary to determine $t'$:\n",
    "1. The relative position of the vehicle is $B$ behind the obstacle\n",
    "2. The relative speed is 0\n",
    "\n",
    "We can express this using our formulation as:\n",
    "\\begin{align*}\n",
    "x(t_B) &= -B\\\\\n",
    "u(t_B) &= 0\\\\\n",
    "\\end{align*}\n",
    "\n",
    "And with the time period split in two with seperate accelerations:\n",
    "$$\n",
    "x(t_B)  = \\underbrace{\\left(x(0) + u(0)t' + \\frac{1}{2}a(0)t'^2\\right)}_{\\text{Rel position after time } t'} + \\underbrace{\\left(u(0) + a(0)t'\\right) }_{\\text{Rel speed after time }t'}(t_B - t') + \\frac{1}{2}a_B(t_B - t')^2\n",
    "$$\n",
    "with $t_B - t'$ the total time spent decelerating. We can also write down the relative speed at $t_B$:\n",
    "$$\n",
    "u(t_B) = (u(0) + a(0)t') + a_B (t_B - t')\n",
    "$$\n",
    "\n",
    "We can now apply our conditions, setting $u(t_B) = 0$, we find:\n",
    "$$\n",
    "(t_B - t') = -\\frac{u(0) + a(0)t'}{a_B}\n",
    "$$\n",
    "allowing us to substitute into our equation for $x(t_B)$ and eliminate $t_B$, finding:\n",
    "\\begin{align*}\n",
    "x(t_B) &= (x(0) + u(0)t'+\\frac{1}{2}a(0)t'^2) - \\frac{(u(0) + a(0)t')^2}{2a_B}\\\\\n",
    "&= \\frac{a(0)}{2}\\left(1 - \\frac{a(0)}{a_B}\\right) t'^2 + u(0)\\left(1-\\frac{a(0)}{a_B}\\right) t' + \\left(x(0) - \\frac{u(0)^2}{2a_B}\\right) \\\\\n",
    "&= -B\n",
    "\\end{align*}\n",
    "\n",
    "For convenience, we drop the $(0)$, such that $x:=x(0)$, $u:=u(0)$ and $a:=a(0)$, define:\n",
    "$$\n",
    "\\gamma = \\left(1 - \\frac{a}{a_B}\\right)\n",
    "$$\n",
    "and write this quadratic in $t'$ as:\n",
    "$$\n",
    "\\frac{a}{2}\\gamma t'^2 + u\\gamma t' + \\left(x - \\frac{u^2}{2a_B} + B \\right) = 0\\\\\n",
    "$$\n",
    "\n",
    "We can now solve to $t'$ under different scenarios.\n",
    "\n",
    "#### **Case 1**: obstacle and vehicle not accelerating, $a=0,\\, a_B < 0$\n",
    "In this case, we note that the equation for $x(t_B)$ is no longer quadratic in $t'$ with $\\gamma=1$ and has the solution:\n",
    "$$\n",
    "t' = \\frac{1}{u}\\left(\\left(-B + \\frac{u^2}{2a_B}\\right) - x\\right)\n",
    "$$\n",
    "which can be understood as the time for the distance travelled up to the braking point.\n",
    "\n",
    "#### **Case 2**: obstacle not accelerating, vehicle accelerating, $a\\ne0,\\, a_B < 0$\n",
    "When $a\\ne0$, we need to solve the quadratic in $t'$ finding solution:\n",
    "$$\n",
    "t' = \\frac{-u\\gamma + \\sqrt{(u\\gamma)^2 - 2a\\gamma\\left(x - \\frac{u^2}{2a_B} + B\\right)}}{a\\gamma}\n",
    "$$\n",
    "with only the positive root relevent given\n",
    "$$\n",
    "x - \\frac{u^2}{2a_B} + B < 0\n",
    "$$\n",
    "\n",
    "#### **Case 3**: obstacle decelerating, $a_{obs} < 0, \\, a_B = 0$\n",
    "As the obstacle is decelerating, we need to map the obstacle forwards in time to the situation where it has stopped and the vehicle behind can apply a relative deceleration.\n",
    "We therefore consider the time that the obstacle stops which is:\n",
    "$$\n",
    "t'' = \\frac{-u_{obs}}{a_{obs}}\n",
    "$$\n",
    "and at this time the obstacle will now have:\n",
    "\\begin{align}\n",
    "x(t'')_{obs} &= x_{obs} - \\frac{u_{obs}^2}{2a_{obs}} \\\\\n",
    "u(t'')_{obs} &= 0 \\\\\n",
    "a(t'')_{obs} &= 0\\\\\n",
    "\\end{align}\n",
    "We can update our relative equations to:\n",
    "\\begin{align}\n",
    "x &= x - \\frac{u_{obs}^2}{2a_{obs}} \\\\\n",
    "u &= u_{veh}\\\\\n",
    "a &= a_{veh}\\\\\n",
    "\\end{align}\n",
    "\n",
    "We are now in either `Case 1` or `Case 2` above, dependent on whether $a = 0$ and can solve for $t'$ as before.\n",
    "\n",
    "Providing a positive solution $t' \\ge 0$ exists for $t'$, there will be no collision.\n",
    "\n",
    "If $t' < 0$, a collision event will take place. Handling with an event such as `EmergencyStop` is an option."
   ]
  },
  {
   "cell_type": "markdown",
   "metadata": {},
   "source": [
    "### Implementing solutions in python\n",
    "We now aim to implement the solutions in python and test example cases"
   ]
  },
  {
   "cell_type": "code",
   "execution_count": 2,
   "metadata": {},
   "outputs": [],
   "source": [
    "MAX_SPEED = 14\n",
    "MAX_DECELERATION = -4\n",
    "BUFFER = 1\n",
    "\n",
    "def get_tuple_at_t(v, t, ROUNDING=9):\n",
    "    x, u, a = v\n",
    "    x_t = round(x + u * t + 0.5 * a * t**2, ROUNDING)\n",
    "    u_t = round(u + a * t, ROUNDING)\n",
    "    a_t = round(a, ROUNDING)\n",
    "    return (x_t, u_t, a_t)\n",
    "\n",
    "def brake(v, a_B=MAX_DECELERATION):\n",
    "    return (v[0], v[1], a_B)\n",
    "\n",
    "\n",
    "def get_t_prime(v1, v2, B=BUFFER, a_B=MAX_DECELERATION, ROUNDING=9):\n",
    "    x1, u1, a1 = v1\n",
    "    x2, u2, a2 = v2\n",
    "\n",
    "    # Calculate relative values\n",
    "    x, u, a = (x1 - x2), (u1 - u2), (a1 - a2)\n",
    "    \n",
    "    # Check if Case 3 first, if so, map values to stationary decelerated obs\n",
    "    if a2 == a_B:\n",
    "        dist_travelled = -u2**2 / (2 * a2)\n",
    "        x = x + x2 - (x2 + dist_travelled)\n",
    "        u = u + u2 - 0\n",
    "        # a = a + a2 - 0\n",
    "        a = a1\n",
    "        \n",
    "\n",
    "    # Calculate gamma\n",
    "    gamma = (1 - a/a_B)\n",
    "    \n",
    "    # Case 1\n",
    "    if a == 0:\n",
    "        if u == 0:\n",
    "            # Already relative speed is 0\n",
    "            return None\n",
    "        t_p = (1/u) * ((-B + u**2/(2*a_B)) - x)\n",
    "        return round(t_p, ROUNDING)\n",
    "    # Case 2\n",
    "    if a != 0:\n",
    "        t_p = (\n",
    "            -u*gamma\n",
    "            + ((u*gamma)**2 - 2*a*gamma*(x - u**2 / (2*a_B) + B))**0.5\n",
    "        ) / (a * gamma)\n",
    "        return round(t_p, ROUNDING)\n",
    "\n",
    "def time_to_stop(v):\n",
    "    return -v[1]/v[2]\n",
    "\n",
    "def time_to_zero_rel_speed(v1, v2):\n",
    "    return -(v1[1] - v2[1])/v1[2]"
   ]
  },
  {
   "cell_type": "code",
   "execution_count": 3,
   "metadata": {},
   "outputs": [
    {
     "ename": "TypeError",
     "evalue": "type complex doesn't define __round__ method",
     "output_type": "error",
     "traceback": [
      "\u001b[0;31m---------------------------------------------------------------------------\u001b[0m",
      "\u001b[0;31mTypeError\u001b[0m                                 Traceback (most recent call last)",
      "\u001b[1;32m/Users/sgreenbury/Projects/zebra/docs/obstacle_reaction_note.ipynb Cell 8\u001b[0m in \u001b[0;36m<cell line: 6>\u001b[0;34m()\u001b[0m\n\u001b[1;32m      <a href='vscode-notebook-cell:/Users/sgreenbury/Projects/zebra/docs/obstacle_reaction_note.ipynb#ch0000007?line=2'>3</a>\u001b[0m v1 \u001b[39m=\u001b[39m (\u001b[39m0\u001b[39m, \u001b[39m4\u001b[39m, \u001b[39m-\u001b[39m\u001b[39m3\u001b[39m)\n\u001b[1;32m      <a href='vscode-notebook-cell:/Users/sgreenbury/Projects/zebra/docs/obstacle_reaction_note.ipynb#ch0000007?line=3'>4</a>\u001b[0m v2 \u001b[39m=\u001b[39m (\u001b[39m20\u001b[39m, \u001b[39m0\u001b[39m, \u001b[39m0\u001b[39m)\n\u001b[0;32m----> <a href='vscode-notebook-cell:/Users/sgreenbury/Projects/zebra/docs/obstacle_reaction_note.ipynb#ch0000007?line=5'>6</a>\u001b[0m t_p \u001b[39m=\u001b[39m get_t_prime(v1, v2)\n\u001b[1;32m      <a href='vscode-notebook-cell:/Users/sgreenbury/Projects/zebra/docs/obstacle_reaction_note.ipynb#ch0000007?line=6'>7</a>\u001b[0m v1_p \u001b[39m=\u001b[39m get_tuple_at_t(v1, t_p)\n\u001b[1;32m      <a href='vscode-notebook-cell:/Users/sgreenbury/Projects/zebra/docs/obstacle_reaction_note.ipynb#ch0000007?line=7'>8</a>\u001b[0m \u001b[39mprint\u001b[39m(\u001b[39mf\u001b[39m\u001b[39m\"\u001b[39m\u001b[39mt\u001b[39m\u001b[39m\\'\u001b[39;00m\u001b[39m=\u001b[39m\u001b[39m{\u001b[39;00mt_p\u001b[39m:\u001b[39;00m\u001b[39m.3f\u001b[39m\u001b[39m}\u001b[39;00m\u001b[39m, v1 at t\u001b[39m\u001b[39m\\'\u001b[39;00m\u001b[39m=\u001b[39m\u001b[39m{\u001b[39;00mv1_p\u001b[39m}\u001b[39;00m\u001b[39m\"\u001b[39m)\n",
      "\u001b[1;32m/Users/sgreenbury/Projects/zebra/docs/obstacle_reaction_note.ipynb Cell 8\u001b[0m in \u001b[0;36mget_t_prime\u001b[0;34m(v1, v2, B, a_B, ROUNDING)\u001b[0m\n\u001b[1;32m     <a href='vscode-notebook-cell:/Users/sgreenbury/Projects/zebra/docs/obstacle_reaction_note.ipynb#ch0000007?line=42'>43</a>\u001b[0m \u001b[39mif\u001b[39;00m a \u001b[39m!=\u001b[39m \u001b[39m0\u001b[39m:\n\u001b[1;32m     <a href='vscode-notebook-cell:/Users/sgreenbury/Projects/zebra/docs/obstacle_reaction_note.ipynb#ch0000007?line=43'>44</a>\u001b[0m     t_p \u001b[39m=\u001b[39m (\n\u001b[1;32m     <a href='vscode-notebook-cell:/Users/sgreenbury/Projects/zebra/docs/obstacle_reaction_note.ipynb#ch0000007?line=44'>45</a>\u001b[0m         \u001b[39m-\u001b[39mu\u001b[39m*\u001b[39mgamma\n\u001b[1;32m     <a href='vscode-notebook-cell:/Users/sgreenbury/Projects/zebra/docs/obstacle_reaction_note.ipynb#ch0000007?line=45'>46</a>\u001b[0m         \u001b[39m+\u001b[39m ((u\u001b[39m*\u001b[39mgamma)\u001b[39m*\u001b[39m\u001b[39m*\u001b[39m\u001b[39m2\u001b[39m \u001b[39m-\u001b[39m \u001b[39m2\u001b[39m\u001b[39m*\u001b[39ma\u001b[39m*\u001b[39mgamma\u001b[39m*\u001b[39m(x \u001b[39m-\u001b[39m u\u001b[39m*\u001b[39m\u001b[39m*\u001b[39m\u001b[39m2\u001b[39m \u001b[39m/\u001b[39m (\u001b[39m2\u001b[39m\u001b[39m*\u001b[39ma_B) \u001b[39m+\u001b[39m B))\u001b[39m*\u001b[39m\u001b[39m*\u001b[39m\u001b[39m0.5\u001b[39m\n\u001b[1;32m     <a href='vscode-notebook-cell:/Users/sgreenbury/Projects/zebra/docs/obstacle_reaction_note.ipynb#ch0000007?line=46'>47</a>\u001b[0m     ) \u001b[39m/\u001b[39m (a \u001b[39m*\u001b[39m gamma)\n\u001b[0;32m---> <a href='vscode-notebook-cell:/Users/sgreenbury/Projects/zebra/docs/obstacle_reaction_note.ipynb#ch0000007?line=47'>48</a>\u001b[0m     \u001b[39mreturn\u001b[39;00m \u001b[39mround\u001b[39;49m(t_p, ROUNDING)\n",
      "\u001b[0;31mTypeError\u001b[0m: type complex doesn't define __round__ method"
     ]
    }
   ],
   "source": [
    "# Case 0 example\n",
    "# TODO: handle case where never meet\n",
    "v1 = (0, 4, -3)\n",
    "v2 = (20, 0, 0)\n",
    "\n",
    "t_p = get_t_prime(v1, v2)\n",
    "v1_p = get_tuple_at_t(v1, t_p)\n",
    "print(f\"t\\'={t_p:.3f}, v1 at t\\'={v1_p}\")\n",
    "v1_pb = brake(v1_p)\n",
    "t_stop = time_to_stop(v1_pb)\n",
    "v1_stop = get_tuple_at_t(v1_pb, t_stop)\n",
    "print(f\"t_B={t_p + t_stop:.3f}, v1 at t_B={v1_stop}\")\n"
   ]
  },
  {
   "cell_type": "code",
   "execution_count": 4,
   "metadata": {},
   "outputs": [
    {
     "name": "stdout",
     "output_type": "stream",
     "text": [
      "t'=5.321429, v1 at t'=(74.499999994, 14.0, 0)\n",
      "t_B=8.821429, v1 at t_B=(98.999999994, 0.0, -4)\n"
     ]
    }
   ],
   "source": [
    "\n",
    "# Case 1 example\n",
    "v1 = (0, 14, 0)\n",
    "v2 = (100, 0, 0)\n",
    "\n",
    "t_p = get_t_prime(v1, v2)\n",
    "v1_p = get_tuple_at_t(v1, t_p)\n",
    "print(f\"t\\'={t_p:.6f}, v1 at t\\'={v1_p}\")\n",
    "v1_pb = brake(v1_p)\n",
    "t_stop = time_to_stop(v1_pb)\n",
    "v1_stop = get_tuple_at_t(v1_pb, t_stop)\n",
    "print(f\"t_B={t_p + t_stop:.6f}, v1 at t_B={v1_stop}\")\n"
   ]
  },
  {
   "cell_type": "code",
   "execution_count": 5,
   "metadata": {},
   "outputs": [
    {
     "name": "stdout",
     "output_type": "stream",
     "text": [
      "t'=4.250, v1 at t'=(139.5, 14.0, 0)\n",
      "t_B=5.250, v1 at t_B=(151.5, 10.0, -4), v2 at t_B=(152.5, 10.0, 0)\n"
     ]
    }
   ],
   "source": [
    "# Case 1B: example with non-zero speed for v2, so following at time t_B\n",
    "v1 = (80, 14, 0)\n",
    "v2 = (100, 10, 0)\n",
    "\n",
    "# v2 = (116, 0, 0)\n",
    "t_p = get_t_prime(v1, v2)\n",
    "v1_p = get_tuple_at_t(v1, t_p)\n",
    "print(f\"t\\'={t_p:.3f}, v1 at t\\'={v1_p}\")\n",
    "v1_pb = brake(v1_p)\n",
    "# t_stop = time_to_stop(v1_pb)\n",
    "t_stop = time_to_zero_rel_speed(v1_pb, v2)\n",
    "v1_stop = get_tuple_at_t(v1_pb, t_stop)\n",
    "print(f\"t_B={t_p + t_stop:.3f}, v1 at t_B={v1_stop}, v2 at t_B={get_tuple_at_t(v2, t_p + t_stop)}\")\n"
   ]
  },
  {
   "cell_type": "code",
   "execution_count": 6,
   "metadata": {},
   "outputs": [
    {
     "name": "stdout",
     "output_type": "stream",
     "text": [
      "t'=1.539638691, v1 at t'=(9.714285712, 8.618916073, 3)\n",
      "t_B=3.694367709, v1 at t_B=(18.999999996, 0.0, -4)\n"
     ]
    }
   ],
   "source": [
    "# Case 2 example\n",
    "v1 = (0, 4, 3)\n",
    "v2 = (20, 0, 0)\n",
    "t_p = get_t_prime(v1, v2)\n",
    "v1_p = get_tuple_at_t(v1, t_p)\n",
    "print(f\"t\\'={t_p:.9f}, v1 at t\\'={v1_p}\")\n",
    "v1_pb = brake(v1_p)\n",
    "t_stop = time_to_stop(v1_pb)\n",
    "v1_stop = get_tuple_at_t(v1_pb, t_stop)\n",
    "print(f\"t_B={t_p + t_stop:.9f}, v1 at t_B={v1_stop}\")\n"
   ]
  },
  {
   "cell_type": "code",
   "execution_count": 7,
   "metadata": {},
   "outputs": [
    {
     "name": "stdout",
     "output_type": "stream",
     "text": [
      "t'=1.539638691, v1 at t'=(105.110672622, 18.618916073, 3)\n",
      "t_B=3.694367709, v1 at t_B=(135.943677089, 10.0, -4), v2 at t_B=(136.943677092, 10.0, 0)\n"
     ]
    }
   ],
   "source": [
    "# Case 2B: example with non-zero speed for v2, so following at time t_B\n",
    "v1 = (80, 14, 3)\n",
    "v2 = (100, 10, 0)\n",
    "\n",
    "# v2 = (116, 0, 0)\n",
    "t_p = get_t_prime(v1, v2)\n",
    "v1_p = get_tuple_at_t(v1, t_p)\n",
    "print(f\"t\\'={t_p:.9f}, v1 at t\\'={v1_p}\")\n",
    "v1_pb = brake(v1_p)\n",
    "# t_stop = time_to_stop(v1_pb)\n",
    "t_stop = time_to_zero_rel_speed(v1_pb, v2)\n",
    "v1_stop = get_tuple_at_t(v1_pb, t_stop)\n",
    "print(f\"t_B={t_p + t_stop:.9f}, v1 at t_B={v1_stop}, v2 at t_B={get_tuple_at_t(v2, t_p + t_stop)}\")"
   ]
  },
  {
   "cell_type": "code",
   "execution_count": 8,
   "metadata": {},
   "outputs": [
    {
     "name": "stdout",
     "output_type": "stream",
     "text": [
      "t''=2.500000000, v2 at t''=(37.5, 0.0, -4)\n",
      "t'=0.466481135, v1 at t'=(6.857142864, 15.399443405, 3)\n",
      "t_B=4.316341986, v1 at t_B=(36.500000012, 0.0, -4), v2 at t_B=(37.5, 0.0, -4)\n"
     ]
    }
   ],
   "source": [
    "# Case 3 example\n",
    "v1 = (0, 14, 3)\n",
    "v2 = (25, 10, MAX_DECELERATION)\n",
    "t2_stop = time_to_stop(v2)\n",
    "v2_stop = get_tuple_at_t(v2, t2_stop)\n",
    "print(f\"t\\'\\'={t2_stop:.9f}, v2 at t\\'\\'={v2_stop}\")\n",
    "\n",
    "# v2 = (116, 0, 0)\n",
    "t_p = get_t_prime(v1, v2)\n",
    "v1_p = get_tuple_at_t(v1, t_p)\n",
    "print(f\"t\\'={t_p:.9f}, v1 at t\\'={v1_p}\")\n",
    "v1_pb = brake(v1_p)\n",
    "t_stop = time_to_stop(v1_pb)\n",
    "v1_stop = get_tuple_at_t(v1_pb, t_stop)\n",
    "print(f\"t_B={t_p + t_stop:.9f}, v1 at t_B={v1_stop}, v2 at t_B={get_tuple_at_t(v2, t2_stop)}\")"
   ]
  },
  {
   "cell_type": "code",
   "execution_count": 9,
   "metadata": {},
   "outputs": [
    {
     "name": "stdout",
     "output_type": "stream",
     "text": [
      "t''=2.500, v2 at t''=(22.5, 0.0, -4)\n",
      "t'=-0.124099041, v1 at t'=(-1.714285716, 13.627702877, 3)\n",
      "Case 3: t' is negative, DANGER!\n",
      "t_B=3.500000000, v1 at t_B=(24.5, 0.0, -4), v2 at t_B=(22.5, 0.0, -4)\n"
     ]
    }
   ],
   "source": [
    "# Case 3: Danger case\n",
    "v1 = (0, 14, 3)\n",
    "v2 = (10, 10, MAX_DECELERATION)\n",
    "t2_stop = time_to_stop(v2)\n",
    "v2_stop = get_tuple_at_t(v2, t2_stop)\n",
    "print(f\"t\\'\\'={t2_stop:.3f}, v2 at t\\'\\'={v2_stop}\")\n",
    "\n",
    "# v2 = (116, 0, 0)\n",
    "t_p = get_t_prime(v1, v2)\n",
    "v1_p = get_tuple_at_t(v1, t_p)\n",
    "print(f\"t\\'={t_p:.9f}, v1 at t\\'={v1_p}\")\n",
    "if t_p < 0:\n",
    "    print(\"Case 3: t\\' is negative, DANGER!\")\n",
    "    t_p = 0\n",
    "    v1_p = get_tuple_at_t(v1, 0)\n",
    "v1_pb = brake(v1_p)\n",
    "t_stop = time_to_stop(v1_pb)\n",
    "v1_stop = get_tuple_at_t(v1_pb, t_stop)\n",
    "print(f\"t_B={t_p + t_stop:.9f}, v1 at t_B={v1_stop}, v2 at t_B={get_tuple_at_t(v2, t2_stop)}\")"
   ]
  },
  {
   "cell_type": "code",
   "execution_count": 10,
   "metadata": {},
   "outputs": [
    {
     "name": "stdout",
     "output_type": "stream",
     "text": [
      "t'=1.852, v1 at t'=(95.142857145, 5.5549206, 3)\n",
      "t_B=3.240, v1 at t_B=(99.000000004, 0.0, -4)\n"
     ]
    }
   ],
   "source": [
    "# Case 1 example: restart car test\n",
    "v1 = (90, 0, 3)\n",
    "v2 = (100, 0, 0)\n",
    "\n",
    "t_p = get_t_prime(v1, v2)\n",
    "v1_p = get_tuple_at_t(v1, t_p)\n",
    "print(f\"t\\'={t_p:.3f}, v1 at t\\'={v1_p}\")\n",
    "v1_pb = brake(v1_p)\n",
    "t_stop = time_to_stop(v1_pb)\n",
    "v1_stop = get_tuple_at_t(v1_pb, t_stop)\n",
    "print(f\"t_B={t_p + t_stop:.3f}, v1 at t_B={v1_stop}\")\n"
   ]
  },
  {
   "cell_type": "code",
   "execution_count": 11,
   "metadata": {},
   "outputs": [
    {
     "name": "stdout",
     "output_type": "stream",
     "text": [
      "t'=2.175, v1 at t'=(115.45, 14.0, 0)\n",
      "t_B=3.425, v1 at t_B=(129.825, 9.0, -4), v2 at t_B=(130.825, 9.0, 0)\n"
     ]
    }
   ],
   "source": [
    "# Case 1B: example with non-zero speed for v2, so following at time t_B\n",
    "v1 = (85, 14, 0)\n",
    "v2 = (100, 9, 0)\n",
    "\n",
    "# v2 = (116, 0, 0)\n",
    "t_p = get_t_prime(v1, v2)\n",
    "v1_p = get_tuple_at_t(v1, t_p)\n",
    "print(f\"t\\'={t_p:.3f}, v1 at t\\'={v1_p}\")\n",
    "v1_pb = brake(v1_p)\n",
    "# t_stop = time_to_stop(v1_pb)\n",
    "t_stop = time_to_zero_rel_speed(v1_pb, v2)\n",
    "v1_stop = get_tuple_at_t(v1_pb, t_stop)\n",
    "print(f\"t_B={t_p + t_stop:.3f}, v1 at t_B={v1_stop}, v2 at t_B={get_tuple_at_t(v2, t_p + t_stop)}\")\n"
   ]
  },
  {
   "cell_type": "markdown",
   "metadata": {},
   "source": [
    "### Explore entering danger zone"
   ]
  },
  {
   "cell_type": "code",
   "execution_count": 12,
   "metadata": {},
   "outputs": [
    {
     "name": "stdout",
     "output_type": "stream",
     "text": [
      "\n",
      "Two vehicles involved in set-up at t=0, with tuples:\n",
      "V1 = (80, 14, 0)\n",
      "V2 = (100, 9, 0)\n",
      "Both moving at constant speed with V2 20m ahead of V1 but 5m/s slower.\n",
      "\n",
      "---\n",
      "Worst case scenario calculation of V2 immediately starts braking, what time t' does V1 need to stop at:\n",
      "V2 stops at:\n",
      "t''=2.250, v2 at t''=(110.125, 0.0, -4)\n",
      "\n",
      "V1 starts braking at:\n",
      "t'=0.330, v1 at t'=(84.625000002, 14.0, 0)\n",
      "\n",
      "Final times (t_B) and tuples:\n",
      "t_B=3.830357143, v1 at t_B=(109.125000002, 0.0, -4), v2 at t_B=(110.125, 0.0, -4)\n",
      "\n",
      "Relative position: -1.000\n",
      "\n",
      "Therefore, V1 must start braking at or before t_immediate_brake:\n",
      "0.330357143\n"
     ]
    }
   ],
   "source": [
    "print(\"\"\"\n",
    "Two vehicles involved in set-up at t=0, with tuples:\n",
    "V1 = (80, 14, 0)\n",
    "V2 = (100, 9, 0)\n",
    "Both moving at constant speed with V2 20m ahead of V1 but 5m/s slower.\n",
    "\"\"\"\n",
    ")\n",
    "print(\"---\")\n",
    "print(\"Worst case scenario calculation of V2 immediately starts braking, what time t' does V1 need to stop at:\")\n",
    "v1 = (80, 14, 0)\n",
    "v2 = (100, 9, MAX_DECELERATION)\n",
    "# v1 = (92.0, 14.0, 0)\n",
    "# v2 = (104.5, 9.0, -4)\n",
    "t2_stop = time_to_stop(v2)\n",
    "v2_stop = get_tuple_at_t(v2, t2_stop)\n",
    "print(\"V2 stops at:\")\n",
    "print(f\"t\\'\\'={t2_stop:.3f}, v2 at t\\'\\'={v2_stop}\\n\")\n",
    "\n",
    "# Get the t_prime (the time V1 needs to start braking) if this suddenly happened\n",
    "print(\"V1 starts braking at:\")\n",
    "t_prime = get_t_prime(v1, v2)\n",
    "v1_p = get_tuple_at_t(v1, t_prime)\n",
    "print(f\"t\\'={t_prime:.3f}, v1 at t\\'={v1_p}\\n\")\n",
    "v1_pb = brake(v1_p)\n",
    "t_stop = time_to_stop(v1_pb)\n",
    "v1_stop = get_tuple_at_t(v1_pb, t_stop)\n",
    "print(\"Final times (t_B) and tuples:\")\n",
    "print(f\"t_B={t_prime + t_stop:.9f}, v1 at t_B={v1_stop}, v2 at t_B={get_tuple_at_t(v2, t2_stop)}\\n\")\n",
    "print(f\"Relative position: {v1_stop[0]-v2_stop[0]:.3f}\\n\")\n",
    "\n",
    "# Braking must commence at t_danger_prime\n",
    "print(\"Therefore, V1 must start braking at or before t_immediate_brake:\")\n",
    "t_immediate_brake = t_prime\n",
    "print(t_immediate_brake)"
   ]
  },
  {
   "cell_type": "code",
   "execution_count": 13,
   "metadata": {},
   "outputs": [
    {
     "name": "stdout",
     "output_type": "stream",
     "text": [
      "\n",
      "However, V1 just looks at V2 currently and calculates braking time\n",
      "E.g. with non-zero speed for V2, so following at time t_B says V1 can\n",
      "wait until t'=3.175\n",
      "\n",
      "V1 must start braking at t':\n",
      "t'=3.175, v1 at t'=(110.45, 14.0, 0)\n",
      "t_rel_speed_zero: 1.25\n",
      "t_B=4.425, v1 at t_B=(124.825, 9.0, -4), v2 at t_B=(139.825, 9.0, 0)\n",
      "Relative position: -15.000\n",
      "\n",
      "Relative speed of 0 has been reached with buffer = -1m as required.\n",
      "\n",
      "But assumes V2 did nothing different up to t'=3.175.\n",
      "\n"
     ]
    }
   ],
   "source": [
    "print(\n",
    "\"\"\"\n",
    "However, V1 just looks at V2 currently and calculates braking time\n",
    "E.g. with non-zero speed for V2, so following at time t_B says V1 can\n",
    "wait until t'=3.175\n",
    "\"\"\"\n",
    ")\n",
    "v1 = (80, 14, 0)\n",
    "# Now set v2 to not be braking to get times\n",
    "v2 = (100, 9, 0)\n",
    "t_prime = get_t_prime(v1, v2)\n",
    "v1_p = get_tuple_at_t(v1, t_p)\n",
    "print(\"V1 must start braking at t\\':\")\n",
    "print(f\"t\\'={t_prime:.3f}, v1 at t\\'={v1_p}\")\n",
    "v1_pb = brake(v1_p)\n",
    "t_rel_speed_zero = time_to_zero_rel_speed(v1_pb, v2)\n",
    "print(f\"t_rel_speed_zero: {t_rel_speed_zero}\")\n",
    "v1_rel_speed_zero = get_tuple_at_t(v1_pb, t_rel_speed_zero)\n",
    "v2_rel_speed_zero = get_tuple_at_t(v2, t_prime + t_rel_speed_zero)\n",
    "print(f\"t_B={t_prime + t_rel_speed_zero:.3f}, v1 at t_B={v1_rel_speed_zero}, v2 at t_B={v2_rel_speed_zero}\")\n",
    "print(f\"Relative position: {v1_rel_speed_zero[0]-v2_rel_speed_zero[0]:.3f}\")\n",
    "\n",
    "# Set t_no_change as t_prime\n",
    "t_no_change = t_prime\n",
    "\n",
    "print(\n",
    "f\"\"\"\n",
    "Relative speed of 0 has been reached with buffer = -1m as required.\\n\n",
    "But assumes V2 did nothing different up to t'={t_no_change}.\n",
    "\"\"\"\n",
    ")\n"
   ]
  },
  {
   "cell_type": "code",
   "execution_count": 14,
   "metadata": {},
   "outputs": [
    {
     "name": "stdout",
     "output_type": "stream",
     "text": [
      "\n",
      "We can now test what would happen if V1 delays braking until after some time t_before_brake\n",
      "\n",
      "\n",
      "Choose some time between 0.330 <= t_before_brake <= 3.175.\n",
      "By the immediate brake model, any time up to 3.175 should be valid.\n",
      "\n",
      "> Time before V2 switches to brake set as: 2.000\n",
      "\n",
      "\n",
      "1. Tuples at moment V2 switches to brake:\n",
      "> V1_d: (108.0, 14, 0), V2_d: (118.0, 9, 0)\n",
      "\n",
      "2. Switch V2 to brake:\n",
      "> (118.0, 9, -4)\n",
      "\n",
      "3. Calculate time to stop for V2.\n",
      "> Get tuple at V2 stop and time it takes:\n",
      "> t''=2.250, v2 at t''=(128.125, 0.0, -4)\n",
      "\n",
      "4. Now we must calculate the t' brake time for V1 to stop at -B compared relative to V2\n",
      "> Total times: -0.384, 2.000, 1.616\n",
      "> t'=-0.384, v1 at t'=(110.45, 14.0, 0)\n",
      "t' is negative so entered the danger zone and should have started braking earlier!\n",
      "\n",
      "5. V1 at time max(t', 0):\n",
      "> (108.0, 14, 0)\n",
      "\n",
      "6. Switch V1 to brake:\n",
      "> (108.0, 14, -4)\n",
      "\n",
      "7. Time to stop for V1 after t':\n",
      "> 3.500\n",
      "\n",
      "8. Final time, tuples and relative position:\n",
      "> t_B=5.116, v1 at t_B=(132.5, 0.0, -4), v2 at t_B=(128.125, 0.0, -4)\n",
      "> Relative position at stop: 4.375\n"
     ]
    }
   ],
   "source": [
    "\n",
    "print(\n",
    "\"\"\"\n",
    "We can now test what would happen if V1 delays braking until after some time t_before_brake\n",
    "\"\"\"\n",
    ")\n",
    "\n",
    "v1 = (80, 14, 0)\n",
    "v2 = (100, 9, 0)\n",
    "\n",
    "print(f\"\"\"\n",
    "Choose some time between {t_immediate_brake:.3f} <= t_before_brake <= {t_no_change:.3f}.\n",
    "By the immediate brake model, any time up to {t_no_change} should be valid.\n",
    "\"\"\"\n",
    ")\n",
    "\n",
    "# Set as 2s\n",
    "t_before_brake = 2\n",
    "print(f\"> Time before V2 switches to brake set as: {t_before_brake:.3f}\\n\")\n",
    "\n",
    "v1_d = get_tuple_at_t(v1, t_before_brake)\n",
    "v2_d = get_tuple_at_t(v2, t_before_brake)\n",
    "print(\"\\n1. Tuples at moment V2 switches to brake:\")\n",
    "print(f\"> V1_d: {v1_d}, V2_d: {v2_d}\")\n",
    "v2_d_brake = brake(v2_d)\n",
    "print(f\"\\n2. Switch V2 to brake:\\n> {v2_d_brake}\")\n",
    "print(\"\\n3. Calculate time to stop for V2.\\n> Get tuple at V2 stop and time it takes:\")\n",
    "t2_stop = time_to_stop(v2_d_brake)\n",
    "v2_stop = get_tuple_at_t(v2_d_brake, t2_stop)\n",
    "print(f\"> t\\'\\'={t2_stop:.3f}, v2 at t\\'\\'={v2_stop}\")\n",
    "\n",
    "print(\"\\n4. Now we must calculate the t\\' brake time for V1 to stop at -B compared relative to V2\")\n",
    "t_prime = get_t_prime(v1_d, v2_d_brake)\n",
    "print(f\"> Total times: {t_prime:.3f}, {t_before_brake:.3f}, {t_prime + t_before_brake:.3f}\")\n",
    "print(f\"> t\\'={t_prime:.3f}, v1 at t\\'={v1_p}\")\n",
    "if t_prime < 0.:\n",
    "    print(\"t\\' is negative so entered the danger zone and should have started braking earlier!\")\n",
    "\n",
    "v1_p = get_tuple_at_t(v1_d, max(t_prime, 0))\n",
    "print(f\"\\n5. V1 at time max(t\\', 0):\\n> {v1_p}\")\n",
    "\n",
    "print(\"\\n6. Switch V1 to brake:\")\n",
    "v1_pb = brake(v1_p)\n",
    "print(f\"> {v1_pb}\")\n",
    "t1_stop = time_to_stop(v1_pb)\n",
    "print(f\"\\n7. Time to stop for V1 after t\\':\\n> {t1_stop:.3f}\")\n",
    "v1_stop = get_tuple_at_t(v1_pb, t1_stop)\n",
    "print(\"\\n8. Final time, tuples and relative position:\")\n",
    "print(f\"> t_B={t_before_brake + t_prime + t1_stop:.3f}, v1 at t_B={v1_stop}, v2 at t_B={v2_stop}\")\n",
    "print(f\"> Relative position at stop: {v1_stop[0] - v2_stop[0]:.3f}\")\n"
   ]
  },
  {
   "cell_type": "code",
   "execution_count": null,
   "metadata": {},
   "outputs": [],
   "source": []
  }
 ],
 "metadata": {
  "kernelspec": {
   "display_name": "Python 3.9.12 ('.venv': poetry)",
   "language": "python",
   "name": "python3"
  },
  "language_info": {
   "codemirror_mode": {
    "name": "ipython",
    "version": 3
   },
   "file_extension": ".py",
   "mimetype": "text/x-python",
   "name": "python",
   "nbconvert_exporter": "python",
   "pygments_lexer": "ipython3",
   "version": "3.9.12"
  },
  "orig_nbformat": 4,
  "vscode": {
   "interpreter": {
    "hash": "2c85dc0f879cfd147899a35df8a128c6460689521abe3baaf610ccde87458220"
   }
  }
 },
 "nbformat": 4,
 "nbformat_minor": 2
}
