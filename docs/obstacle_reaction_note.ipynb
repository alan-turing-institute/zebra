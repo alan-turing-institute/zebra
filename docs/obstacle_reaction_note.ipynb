{
 "cells": [
  {
   "cell_type": "markdown",
   "metadata": {},
   "source": [
    "# Notebook for deriving the physics updates for obstacle events"
   ]
  },
  {
   "cell_type": "markdown",
   "metadata": {},
   "source": [
    "## Diagram"
   ]
  },
  {
   "cell_type": "code",
   "execution_count": null,
   "metadata": {},
   "outputs": [],
   "source": [
    "import matplotlib.pyplot as plt\n",
    "def arrow_col(a):\n",
    "    if a < 0:\n",
    "        return \"red\"\n",
    "    elif a > 0:\n",
    "        return \"green\"\n",
    "    else:\n",
    "        return \"black\"\n",
    "\n",
    "def draw_arrow(x, u, a, y, ax):\n",
    "    ax.annotate(\"\", xytext=(x, y), xy=(x+2*a, y), arrowprops=dict(arrowstyle=\"->\", color=arrow_col(a)))\n",
    "\n",
    "fig, axs = plt.subplots(1, 1, figsize=(10, 4))\n",
    "\n",
    "(x1, u1, a1) = (10, 3, 3)\n",
    "(x1b, u1b, a1b) = (90 + 14**2/(-2*4), 14, -4)\n",
    "(x1s, u1s, a1s) = (90, 0, 0)\n",
    "(x2, u2, a2) = (100, 0, 0)\n",
    "y = 10\n",
    "buff = 4\n",
    "ax = axs\n",
    "ax.scatter(x1, y, s=100)\n",
    "ax.scatter(x1b, y, s=100, color=\"dodgerblue\")\n",
    "ax.scatter(x1s, y, s=100, color=\"lightblue\")\n",
    "ax.scatter(x2, y, s=100)\n",
    "ax.annotate(f\"(x, u, a) = {x1, u1, a1}\", (x1, y), (x1, y+0.1), va=\"bottom\", ha=\"center\")\n",
    "ax.annotate(f\"(x, u, a) = {x1b, u1b, a1b}\", (x1b, y), (x1b, y+0.1), va=\"bottom\", ha=\"center\")\n",
    "ax.annotate(f\"(x, u, a) = {x1s, u1s, a1s}\", (x1s, y), (x1s, y-0.1), va=\"bottom\", ha=\"center\")\n",
    "ax.annotate(f\"(x, u, a) = {x2, u2, a2}\", (x2, y), (x2, y+0.1), va=\"bottom\", ha=\"center\")\n",
    "ax.set(xlim=(x1-buff, x2+buff), ylim=(y-0.5, y+0.5))\n",
    "draw_arrow(x1, u1, a1, y, ax)\n",
    "draw_arrow(x1b, u1b, a1b, y, ax)\n",
    "draw_arrow(x1s, u1s, a1s, y, ax)\n",
    "draw_arrow(x2, u2, a2, y, ax)\n",
    "ax.vlines(x1b, y-0.5, y+0.5, ls=\":\", color=\"grey\", zorder=-1)\n",
    "ax.annotate(\"What time $t'$\\ndoes vehicle need to\\nbrake to stop at 90m\", (x1b, y+0.5), (x1b, y+0.5), fontsize=\"medium\", va=\"top\", ha=\"center\")\n",
    "ax.axis(\"off\")\n",
    "plt.show()"
   ]
  },
  {
   "cell_type": "markdown",
   "metadata": {},
   "source": [
    "## Equations\n",
    "\n",
    "Object $\\boldsymbol{V}_i$ is described by a tuple, $\\boldsymbol{V}_i = (\\text{position}, \\text{speed}, \\text{acceleration})$. We write this as a function of time as:\n",
    "$$\n",
    "\\boldsymbol{V}_i(t) = (x_i(t), u_i(t), a_i(t))\n",
    "$$\n",
    "\n",
    "Given constant initial conditions, and constant accelerations, we can write the components for any object as:\n",
    "\\begin{align*}\n",
    "x_i(t) &= x_i(0) + u_i(0)t + \\frac{1}{2}a_i(0)t^2\\\\\n",
    "u_i(t) &= u_i(0) + a_i(0)t\\\\\n",
    "a_i(t) &= a_i(0)\n",
    "\\end{align*}\n",
    "\n",
    "For two objects, such as a vehicle behind an obstacle, we can write down their \\textit{relative} position, speed and acceleration also as a function of time $t$.\n",
    "\n",
    "\\begin{align*}\n",
    "\\Delta x(t) &= \\Delta x(0) + \\Delta u(0)t + \\frac{1}{2}\\Delta a(0)t^2\\\\\n",
    "\\Delta u(t) &= \\Delta u(0) + \\Delta a(0)t\\\\\n",
    "\\Delta a(t) &= \\Delta a(0)\n",
    "\\end{align*}\n",
    "\n",
    "For convenience, when explicitly considering two objects, we drop the $\\Delta$ notation, so that we have:\n",
    "\\begin{align*}\n",
    "x(t) &= x(0) + u(0)t + \\frac{1}{2}a(0)t^2\\\\\n",
    "u(t) &= u(0) + a(0)t\\\\\n",
    "a(t) &= a(0)\n",
    "\\end{align*}\n"
   ]
  },
  {
   "cell_type": "markdown",
   "metadata": {},
   "source": [
    "## Deriving the time of a reaction to obstacle\n",
    "\n",
    "With the relative equations set-up, we now derive the time at which a reaction is required from vehicle $i$ to obstacle $j$ (could be vehicle, pedestrian, etc).\n",
    "\n",
    "We split the total time $t$ into two parts:\n",
    "1. $0 \\le t < t'$: vehicle $V$ continues without changing it's acceleration\n",
    "2. $t' \\le t < t_B$: vehicle $V$ switches to relative deceleration of $a(t) = a_B$ with respect to obstacle\n",
    "\n",
    "We wish to calculate the `ReactionToObstacle` time $t'$ at which the $V$ reacts and begins to brake.\n",
    "\n",
    "Two conditions required at the final stop time $t_B$ are necessary to determine $t'$:\n",
    "1. The relative position of the vehicle is $B$ behind the obstacle\n",
    "2. The relative speed is 0\n",
    "\n",
    "We can express this using our formulation as:\n",
    "\\begin{align*}\n",
    "x(t_B) &= -B\\\\\n",
    "u(t_B) &= 0\\\\\n",
    "\\end{align*}\n",
    "\n",
    "And with the time period split in two with seperate accelerations:\n",
    "$$\n",
    "x(t_B)  = \\underbrace{\\left(x(0) + u(0)t' + \\frac{1}{2}a(0)t'^2\\right)}_{\\text{Rel position after time } t'} + \\underbrace{\\left(u(0) + a(0)t'\\right) }_{\\text{Rel speed after time }t'}(t_B - t') + \\frac{1}{2}a_B(t_B - t')^2\n",
    "$$\n",
    "with $t_B - t'$ the total time spent decelerating. We can also write down the relative speed at $t_B$:\n",
    "$$\n",
    "u(t_B) = (u(0) + a(0)t') + a_B (t_B - t')\n",
    "$$\n",
    "\n",
    "We can now apply our conditions, setting $u(t_B) = 0$, we find:\n",
    "$$\n",
    "(t_B - t') = -\\frac{u(0) + a(0)t'}{a_B}\n",
    "$$\n",
    "allowing us to substitute into our equation for $x(t_B)$ and eliminate $t_B$, finding:\n",
    "\\begin{align*}\n",
    "x(t_B) &= (x(0) + u(0)t'+\\frac{1}{2}a(0)t'^2) - \\frac{(u(0) + a(0)t')^2}{2a_B}\\\\\n",
    "&= \\frac{a(0)}{2}\\left(1 - \\frac{a(0)}{a_B}\\right) t'^2 + u(0)\\left(1-\\frac{a(0)}{a_B}\\right) t' + \\left(x(0) - \\frac{u(0)^2}{2a_B}\\right) \\\\\n",
    "&= -B\n",
    "\\end{align*}\n",
    "\n",
    "For convenience, we drop the $(0)$, such that $x:=x(0)$, $u:=u(0)$ and $a:=a(0)$, define:\n",
    "$$\n",
    "\\gamma = \\left(1 - \\frac{a}{a_B}\\right)\n",
    "$$\n",
    "and write this quadratic in $t'$ as:\n",
    "$$\n",
    "\\frac{a}{2}\\gamma t'^2 + u\\gamma t' + \\left(x - \\frac{u^2}{2a_B} + B \\right) = 0\\\\\n",
    "$$\n",
    "\n",
    "We can now solve to $t'$ under different scenarios.\n",
    "\n",
    "#### Case 1: obstacle and vehicle not accelerating, $a=0,\\, a_B < 0$\n",
    "In this case, we note that the equation for $x(t_B)$ is no longer quadratic in $t'$ with $\\gamma=1$ and has the solution:\n",
    "$$\n",
    "t' = \\frac{1}{u}\\left(\\left(-B + \\frac{u^2}{2a_B}\\right) - x\\right)\n",
    "$$\n",
    "which can be understood as the time for the distance travelled up to the braking point.\n",
    "\n",
    "#### Case 2: obstacle not accelerating, vehicle accelerating, $a\\ne0,\\, a_B < 0$\n",
    "When $a\\ne0$, we need to solve the quadratic in $t'$ finding solutions:\n",
    "$$\n",
    "t' = \\frac{-u\\gamma + \\sqrt{(u\\gamma)^2 - 2a\\gamma\\left(x - \\frac{u^2}{2a_B} + B\\right)}}{a\\gamma}\n",
    "$$\n",
    "with only the positive root relevent given\n",
    "$$\n",
    "x - \\frac{u^2}{2a_B} + B < 0\n",
    "$$\n",
    "\n",
    "#### Case 3: obstacle decelerating, $a_{obs} < 0, \\, a_B = 0$\n",
    "As the obstacle is decelerating, we need to map the obstacle forwards in time to the situation where it has stopped and the vehicle behind can apply a relative deceleration.\n",
    "We therefore consider the time that the obstacle stops which is:\n",
    "$$\n",
    "t'' = \\frac{-u_{obs}}{a_{obs}}\n",
    "$$\n",
    "and at this time the obstacle will now have:\n",
    "\\begin{align}\n",
    "x(t'')_{obs} &= x_{obs} - \\frac{u_{obs}^2}{2a_{obs}} \\\\\n",
    "u(t'')_{obs} &= 0 \\\\\n",
    "a(t'')_{obs} &= 0\\\\\n",
    "\\end{align}\n",
    "We can update our relative equations to:\n",
    "\\begin{align}\n",
    "x &= x - \\frac{u_{obs}^2}{2a_{obs}} \\\\\n",
    "u &= u_{veh}\\\\\n",
    "a &= a_{veh}\\\\\n",
    "\\end{align}\n",
    "\n",
    "We are now in either `Case 1` or `Case 2` above, dependent on whether $a = 0$ and can solve for $t'$ as before.\n",
    "\n",
    "Providing a positive solution exists for $t'$, there will be no collision.\n",
    "\n",
    "If no solution exists, we pass an immediate `HazardEvent::Brake(Vehicle)` for the vehicle so it switches to decelerating, and consider `Case 4` where a collision will occur.\n",
    "\n",
    "TODO: update as will return negative $t' < 0$ if not possible. This immediately indicates collision event will take place.\n",
    "TODO: in this case, calculate the deceleration required for v1 to be at buffer when v2 stops and add this event to event queue.\n",
    "\n",
    "\n",
    "#### Case 4: vehicle decelerating and obstacle decelerating, $a=0, \\, a_B = 0$\n",
    "TODO: remove this case.\n",
    "\n",
    "The last condition of `case 3` leads to a case where both obstacle and vehicle are decelerating at same time.\n",
    "\n",
    "Under this condition, we can evaluate:\n",
    "\\begin{align}\n",
    "t_{veh} &= \\frac{-u_{veh}}{a_{veh}}\\\\\n",
    "t_{obs} &= \\frac{-u_{obs}}{a_{obs}}\\\\\n",
    "\\end{align}\n",
    "which are the stopping times of the respective objects.\n",
    "\n",
    "If $t_{veh} < t_{obs}$ or $t_{veh} > t_{obs}$ with $x<-B$, there is no collision.\n",
    "\n",
    "If $$t_{veh} > t_{obs}$$ with $x(t_B)\\ge-B$, there is a collision.\n",
    "\n",
    "Given there is no solution for $t'$ in `Case 3` to reach `Case 4`, this should already hold and some sort of emergency stop event is required at time $t=0$ in this `Case 4`.\n"
   ]
  },
  {
   "cell_type": "markdown",
   "metadata": {},
   "source": [
    "### Implementing solutions in python\n",
    "We now aim to implement the solutions in python and test example cases"
   ]
  },
  {
   "cell_type": "code",
   "execution_count": 1,
   "metadata": {},
   "outputs": [],
   "source": [
    "MAX_SPEED = 14\n",
    "MAX_DECELERATION = -4\n",
    "BUFFER = 10\n",
    "\n",
    "def get_tuple_at_t(v, t, ROUNDING=3):\n",
    "    x, u, a = v\n",
    "    x_t = round(x + u * t + 0.5 * a * t**2, ROUNDING)\n",
    "    u_t = round(u + a * t, ROUNDING)\n",
    "    a_t = round(a, ROUNDING)\n",
    "    return (x_t, u_t, a_t)\n",
    "\n",
    "def brake(v, a_B=MAX_DECELERATION):\n",
    "    return (v[0], v[1], a_B)\n",
    "\n",
    "\n",
    "def get_t_prime(v1, v2, B=BUFFER, a_B=MAX_DECELERATION, ROUNDING=3):\n",
    "    x1, u1, a1 = v1\n",
    "    x2, u2, a2 = v2\n",
    "    \n",
    "    # Check if Case 3 first, if so, map values to stationary decelerated obs\n",
    "    if a2 == a_B:\n",
    "        u = u1\n",
    "        a = a1\n",
    "        x2, u2, a2 = x2+(- u2**2 / (2 * a2)), 0, 0\n",
    "    \n",
    "    # Calculate relative values\n",
    "    x, u, a = (x1 - x2), (u1 - u2), (a1 - a2)\n",
    "\n",
    "    # Calculate gamma\n",
    "    gamma = (1 - a/a_B)\n",
    "    \n",
    "    # Case 1\n",
    "    if a == 0 and a2 != a_B:\n",
    "        t_p = (1/u) * ((-B + u**2/(2*a_B)) - x)\n",
    "        return round(t_p, ROUNDING)\n",
    "    # Case 2\n",
    "    if a != 0 and a2 != a_B:\n",
    "        t_p = (\n",
    "            -u*gamma\n",
    "            + ((u*gamma)**2 - 2*a*gamma*(x - u**2 / (2*a_B) + B))**0.5\n",
    "        ) / (a * gamma)\n",
    "        return round(t_p, ROUNDING)\n",
    "\n",
    "def time_to_stop(v):\n",
    "    return -v[1]/v[2]\n",
    "\n",
    "def time_to_zero_rel_speed(v1, v2):\n",
    "    return -(v1[1] - v2[1])/v1[2]"
   ]
  },
  {
   "cell_type": "code",
   "execution_count": 2,
   "metadata": {},
   "outputs": [
    {
     "name": "stdout",
     "output_type": "stream",
     "text": [
      "t'=4.679, v1 at t'=(65.506, 14.0, 0)\n",
      "t_B=8.179, v1 at t_B=(90.006, 0.0, -4)\n"
     ]
    }
   ],
   "source": [
    "# Case 1 example\n",
    "v1 = (0, 14, 0)\n",
    "v2 = (100, 0, 0)\n",
    "\n",
    "t_p = get_t_prime(v1, v2)\n",
    "v1_p = get_tuple_at_t(v1, t_p)\n",
    "print(f\"t\\'={t_p:.3f}, v1 at t\\'={v1_p}\")\n",
    "v1_pb = brake(v1_p)\n",
    "t_stop = time_to_stop(v1_pb)\n",
    "v1_stop = get_tuple_at_t(v1_pb, t_stop)\n",
    "print(f\"t_B={t_p + t_stop:.3f}, v1 at t_B={v1_stop}\")\n"
   ]
  },
  {
   "cell_type": "code",
   "execution_count": 3,
   "metadata": {},
   "outputs": [
    {
     "name": "stdout",
     "output_type": "stream",
     "text": [
      "t'=2.000, v1 at t'=(108.0, 14.0, 0)\n",
      "t_B=3.000, v1 at t_B=(120.0, 10.0, -4), v2 at t_B=(130.0, 10.0, 0)\n"
     ]
    }
   ],
   "source": [
    "# Case 1B: example with non-zero speed for v2, so following at time t_B\n",
    "v1 = (80, 14, 0)\n",
    "v2 = (100, 10, 0)\n",
    "\n",
    "# v2 = (116, 0, 0)\n",
    "t_p = get_t_prime(v1, v2)\n",
    "v1_p = get_tuple_at_t(v1, t_p)\n",
    "print(f\"t\\'={t_p:.3f}, v1 at t\\'={v1_p}\")\n",
    "v1_pb = brake(v1_p)\n",
    "# t_stop = time_to_stop(v1_pb)\n",
    "t_stop = time_to_zero_rel_speed(v1_pb, v2)\n",
    "v1_stop = get_tuple_at_t(v1_pb, t_stop)\n",
    "print(f\"t_B={t_p + t_stop:.3f}, v1 at t_B={v1_stop}, v2 at t_B={get_tuple_at_t(v2, t_p + t_stop)}\")\n"
   ]
  },
  {
   "cell_type": "code",
   "execution_count": 4,
   "metadata": {},
   "outputs": [
    {
     "name": "stdout",
     "output_type": "stream",
     "text": [
      "t'=2.169, v1 at t'=(37.423, 20.507, 3)\n",
      "t_B=7.296, v1 at t_B=(89.99, 0.0, -4)\n"
     ]
    }
   ],
   "source": [
    "# Case 2 example\n",
    "v1 = (0, 14, 3)\n",
    "v2 = (100, 0, 0)\n",
    "t_p = get_t_prime(v1, v2)\n",
    "v1_p = get_tuple_at_t(v1, t_p)\n",
    "print(f\"t\\'={t_p:.3f}, v1 at t\\'={v1_p}\")\n",
    "v1_pb = brake(v1_p)\n",
    "t_stop = time_to_stop(v1_pb)\n",
    "v1_stop = get_tuple_at_t(v1_pb, t_stop)\n",
    "print(f\"t_B={t_p + t_stop:.3f}, v1 at t_B={v1_stop}\")\n"
   ]
  },
  {
   "cell_type": "code",
   "execution_count": 5,
   "metadata": {},
   "outputs": [
    {
     "name": "stdout",
     "output_type": "stream",
     "text": [
      "t'=0.863, v1 at t'=(93.199, 16.589, 3)\n",
      "t_B=2.510, v1 at t_B=(115.098, 10.0, -4), v2 at t_B=(125.102, 10.0, 0)\n"
     ]
    }
   ],
   "source": [
    "# Case 2B: example with non-zero speed for v2, so following at time t_B\n",
    "v1 = (80, 14, 3)\n",
    "v2 = (100, 10, 0)\n",
    "\n",
    "# v2 = (116, 0, 0)\n",
    "t_p = get_t_prime(v1, v2)\n",
    "v1_p = get_tuple_at_t(v1, t_p)\n",
    "print(f\"t\\'={t_p:.3f}, v1 at t\\'={v1_p}\")\n",
    "v1_pb = brake(v1_p)\n",
    "# t_stop = time_to_stop(v1_pb)\n",
    "t_stop = time_to_zero_rel_speed(v1_pb, v2)\n",
    "v1_stop = get_tuple_at_t(v1_pb, t_stop)\n",
    "print(f\"t_B={t_p + t_stop:.3f}, v1 at t_B={v1_stop}, v2 at t_B={get_tuple_at_t(v2, t_p + t_stop)}\")"
   ]
  },
  {
   "cell_type": "code",
   "execution_count": 6,
   "metadata": {},
   "outputs": [
    {
     "name": "stdout",
     "output_type": "stream",
     "text": [
      "t''=2.500, v2 at t''=(112.5, 0.0, -4)\n",
      "t'=2.509, v1 at t'=(44.569, 21.527, 3)\n",
      "t_B=7.891, v1 at t_B=(102.495, 0.0, -4)\n"
     ]
    }
   ],
   "source": [
    "\n",
    "# Case 3 example\n",
    "v1 = (0, 14, 3)\n",
    "v2 = (100, 10, MAX_DECELERATION)\n",
    "t2_stop = time_to_stop(v2)\n",
    "v2_stop = get_tuple_at_t(v2, t2_stop)\n",
    "print(f\"t\\'\\'={t2_stop:.3f}, v2 at t\\'\\'={v2_stop}\")\n",
    "\n",
    "# v2 = (116, 0, 0)\n",
    "t_p = get_t_prime(v1, v2)\n",
    "v1_p = get_tuple_at_t(v1, t_p)\n",
    "print(f\"t\\'={t_p:.3f}, v1 at t\\'={v1_p}\")\n",
    "v1_pb = brake(v1_p)\n",
    "t_stop = time_to_stop(v1_pb)\n",
    "v1_stop = get_tuple_at_t(v1_pb, t_stop)\n",
    "print(f\"t_B={t_p + t_stop:.3f}, v1 at t_B={v1_stop}\")"
   ]
  },
  {
   "cell_type": "code",
   "execution_count": 7,
   "metadata": {},
   "outputs": [
    {
     "name": "stdout",
     "output_type": "stream",
     "text": [
      "t''=3.500, v2 at t''=(124.5, 0.0, -4)\n",
      "t'=-0.071, v1 at t'=(90.006, 14.0, 0)\n",
      "CASE 4: t' is negative, DANGER!\n",
      "t_B=3.429, v1 at t_B=(114.506, 0.0, -4)\n"
     ]
    }
   ],
   "source": [
    "# Case 4 example\n",
    "v1 = (91, 14, 0)\n",
    "v2 = (100, 14, MAX_DECELERATION)\n",
    "t2_stop = time_to_stop(v2)\n",
    "v2_stop = get_tuple_at_t(v2, t2_stop)\n",
    "print(f\"t\\'\\'={t2_stop:.3f}, v2 at t\\'\\'={v2_stop}\")\n",
    "\n",
    "# v2 = (116, 0, 0)\n",
    "t_p = get_t_prime(v1, v2)\n",
    "v1_p = get_tuple_at_t(v1, t_p)\n",
    "print(f\"t\\'={t_p:.3f}, v1 at t\\'={v1_p}\")\n",
    "if t_p < 0:\n",
    "    print(\"CASE 4: t\\' is negative, DANGER!\")\n",
    "v1_pb = brake(v1_p)\n",
    "t_stop = time_to_stop(v1_pb)\n",
    "v1_stop = get_tuple_at_t(v1_pb, t_stop)\n",
    "print(f\"t_B={t_p + t_stop:.3f}, v1 at t_B={v1_stop}\")"
   ]
  },
  {
   "cell_type": "code",
   "execution_count": null,
   "metadata": {},
   "outputs": [],
   "source": []
  }
 ],
 "metadata": {
  "kernelspec": {
   "display_name": "Python 3.9.12 ('.venv': poetry)",
   "language": "python",
   "name": "python3"
  },
  "language_info": {
   "codemirror_mode": {
    "name": "ipython",
    "version": 3
   },
   "file_extension": ".py",
   "mimetype": "text/x-python",
   "name": "python",
   "nbconvert_exporter": "python",
   "pygments_lexer": "ipython3",
   "version": "3.9.12"
  },
  "orig_nbformat": 4,
  "vscode": {
   "interpreter": {
    "hash": "2c85dc0f879cfd147899a35df8a128c6460689521abe3baaf610ccde87458220"
   }
  }
 },
 "nbformat": 4,
 "nbformat_minor": 2
}
